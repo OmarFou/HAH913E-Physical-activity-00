{
 "cells": [
  {
   "cell_type": "markdown",
   "id": "8b545d8a",
   "metadata": {},
   "source": [
    "This code imports the necessary libraries (pandas, numpy, matplotlib, and Path from the pathlib module) to handle data analysis and plotting. It then searches for the accelerometer data file 0_z.csv in two possible locations and selects the one that exists. The CSV file is read into a pandas DataFrame, ignoring any lines starting with # (used for comments). \n",
    "\n",
    "- The column names are cleaned by stripping spaces and converting them to lowercase. The main data columns (t, x, y, and z) are converted to numeric values, forcing any invalid entries to become missing values (NaN). \n",
    "- Next, any rows containing missing data are removed, and the dataset is sorted by the time column (t) before resetting the index to keep it tidy. \n",
    "\n",
    "- Finally, the code displays the first few rows of the cleaned dataset to confirm that the data has been properly loaded and prepared for further analysis."
   ]
  },
  {
   "cell_type": "code",
   "execution_count": 1,
   "id": "4aab3655",
   "metadata": {},
   "outputs": [
    {
     "data": {
      "text/html": [
       "<div>\n",
       "<style scoped>\n",
       "    .dataframe tbody tr th:only-of-type {\n",
       "        vertical-align: middle;\n",
       "    }\n",
       "\n",
       "    .dataframe tbody tr th {\n",
       "        vertical-align: top;\n",
       "    }\n",
       "\n",
       "    .dataframe thead th {\n",
       "        text-align: right;\n",
       "    }\n",
       "</style>\n",
       "<table border=\"1\" class=\"dataframe\">\n",
       "  <thead>\n",
       "    <tr style=\"text-align: right;\">\n",
       "      <th></th>\n",
       "      <th>t</th>\n",
       "      <th>x</th>\n",
       "      <th>y</th>\n",
       "      <th>z</th>\n",
       "    </tr>\n",
       "  </thead>\n",
       "  <tbody>\n",
       "    <tr>\n",
       "      <th>0</th>\n",
       "      <td>0.00</td>\n",
       "      <td>-0.0938</td>\n",
       "      <td>-0.0156</td>\n",
       "      <td>0.9531</td>\n",
       "    </tr>\n",
       "    <tr>\n",
       "      <th>1</th>\n",
       "      <td>0.02</td>\n",
       "      <td>-0.0938</td>\n",
       "      <td>-0.0156</td>\n",
       "      <td>0.9531</td>\n",
       "    </tr>\n",
       "    <tr>\n",
       "      <th>2</th>\n",
       "      <td>0.04</td>\n",
       "      <td>-0.0938</td>\n",
       "      <td>-0.0156</td>\n",
       "      <td>0.9531</td>\n",
       "    </tr>\n",
       "    <tr>\n",
       "      <th>3</th>\n",
       "      <td>0.06</td>\n",
       "      <td>-0.0938</td>\n",
       "      <td>-0.0156</td>\n",
       "      <td>0.9531</td>\n",
       "    </tr>\n",
       "    <tr>\n",
       "      <th>4</th>\n",
       "      <td>0.08</td>\n",
       "      <td>-0.0938</td>\n",
       "      <td>-0.0156</td>\n",
       "      <td>0.9531</td>\n",
       "    </tr>\n",
       "  </tbody>\n",
       "</table>\n",
       "</div>"
      ],
      "text/plain": [
       "      t       x       y       z\n",
       "0  0.00 -0.0938 -0.0156  0.9531\n",
       "1  0.02 -0.0938 -0.0156  0.9531\n",
       "2  0.04 -0.0938 -0.0156  0.9531\n",
       "3  0.06 -0.0938 -0.0156  0.9531\n",
       "4  0.08 -0.0938 -0.0156  0.9531"
      ]
     },
     "execution_count": 1,
     "metadata": {},
     "output_type": "execute_result"
    }
   ],
   "source": [
    "import pandas as pd, numpy as np, matplotlib.pyplot as plt\n",
    "from pathlib import Path\n",
    "\n",
    "csv_candidates = [Path('0_z.csv'), Path('/mnt/data/0_z.csv')]\n",
    "for p in csv_candidates:\n",
    "    if p.exists():\n",
    "        csv_path = p\n",
    "        break\n",
    "\n",
    "df = pd.read_csv(csv_path, comment='#')\n",
    "df.columns = [c.strip().lower() for c in df.columns]\n",
    "for c in ['t','x','y','z']:\n",
    "    df[c] = pd.to_numeric(df[c], errors='coerce')\n",
    "df = df.dropna(subset=['t','x','y','z']).sort_values('t').reset_index(drop=True)\n",
    "df.head()"
   ]
  },
  {
   "cell_type": "markdown",
   "id": "0a0491ca",
   "metadata": {},
   "source": [
    "This part of the code defines and applies a function to compute ENMO (Euclidean Norm Minus One), a common measure of physical activity intensity from accelerometer data.\n",
    "The function compute_enmo(x, y, z) below, calculates the magnitude of the acceleration vector at each time point using the formula\n",
    "\n",
    "$$\n",
    "\\text{ENMO} = \\max \\left(0,\\ \\sqrt{x^2 + y^2 + z^2} - 1 \\right)\n",
    "$$\n",
    "\n",
    "where *x*, *y*, and *z* are the acceleration components (in g).\n",
    "\n",
    "and then applies np.maximum(0, …) to set any negative values to zero, since ENMO cannot be negative.\n",
    "The result represents the movement intensity (in g) after removing the static 1 g effect of gravity.\n",
    "The computed ENMO values are added to the DataFrame as a new column called enmo_g, and the last line displays the first few rows to verify the calculation"
   ]
  },
  {
   "cell_type": "code",
   "execution_count": 2,
   "id": "49cdb642",
   "metadata": {},
   "outputs": [
    {
     "data": {
      "text/html": [
       "<div>\n",
       "<style scoped>\n",
       "    .dataframe tbody tr th:only-of-type {\n",
       "        vertical-align: middle;\n",
       "    }\n",
       "\n",
       "    .dataframe tbody tr th {\n",
       "        vertical-align: top;\n",
       "    }\n",
       "\n",
       "    .dataframe thead th {\n",
       "        text-align: right;\n",
       "    }\n",
       "</style>\n",
       "<table border=\"1\" class=\"dataframe\">\n",
       "  <thead>\n",
       "    <tr style=\"text-align: right;\">\n",
       "      <th></th>\n",
       "      <th>t</th>\n",
       "      <th>x</th>\n",
       "      <th>y</th>\n",
       "      <th>z</th>\n",
       "      <th>enmo_g</th>\n",
       "    </tr>\n",
       "  </thead>\n",
       "  <tbody>\n",
       "    <tr>\n",
       "      <th>0</th>\n",
       "      <td>0.00</td>\n",
       "      <td>-0.0938</td>\n",
       "      <td>-0.0156</td>\n",
       "      <td>0.9531</td>\n",
       "      <td>0.0</td>\n",
       "    </tr>\n",
       "    <tr>\n",
       "      <th>1</th>\n",
       "      <td>0.02</td>\n",
       "      <td>-0.0938</td>\n",
       "      <td>-0.0156</td>\n",
       "      <td>0.9531</td>\n",
       "      <td>0.0</td>\n",
       "    </tr>\n",
       "    <tr>\n",
       "      <th>2</th>\n",
       "      <td>0.04</td>\n",
       "      <td>-0.0938</td>\n",
       "      <td>-0.0156</td>\n",
       "      <td>0.9531</td>\n",
       "      <td>0.0</td>\n",
       "    </tr>\n",
       "    <tr>\n",
       "      <th>3</th>\n",
       "      <td>0.06</td>\n",
       "      <td>-0.0938</td>\n",
       "      <td>-0.0156</td>\n",
       "      <td>0.9531</td>\n",
       "      <td>0.0</td>\n",
       "    </tr>\n",
       "    <tr>\n",
       "      <th>4</th>\n",
       "      <td>0.08</td>\n",
       "      <td>-0.0938</td>\n",
       "      <td>-0.0156</td>\n",
       "      <td>0.9531</td>\n",
       "      <td>0.0</td>\n",
       "    </tr>\n",
       "  </tbody>\n",
       "</table>\n",
       "</div>"
      ],
      "text/plain": [
       "      t       x       y       z  enmo_g\n",
       "0  0.00 -0.0938 -0.0156  0.9531     0.0\n",
       "1  0.02 -0.0938 -0.0156  0.9531     0.0\n",
       "2  0.04 -0.0938 -0.0156  0.9531     0.0\n",
       "3  0.06 -0.0938 -0.0156  0.9531     0.0\n",
       "4  0.08 -0.0938 -0.0156  0.9531     0.0"
      ]
     },
     "execution_count": 2,
     "metadata": {},
     "output_type": "execute_result"
    }
   ],
   "source": [
    "def compute_enmo(x, y, z):\n",
    "    return np.maximum(0.0, np.sqrt(x*x + y*y + z*z) - 1.0)\n",
    "df['enmo_g'] = compute_enmo(df['x'].values, df['y'].values, df['z'].values)\n",
    "df[['t','x','y','z','enmo_g']].head()"
   ]
  },
  {
   "cell_type": "markdown",
   "id": "0d022530",
   "metadata": {},
   "source": [
    "This function integrates ENMO values over time to quantify the total movement intensity during a given period.\n",
    "It takes two inputs — enmo, the array of ENMO values (in g), and t_seconds, the corresponding time points (in seconds).\n",
    "Because the integration needs to produce a result in g·minutes, the time values are first converted from seconds to minutes by dividing by 60.\n",
    "Then, the function uses NumPy’s trapezoidal integration method (np.trapz) to calculate the area under the ENMO curve, which represents the accumulated intensity of movement over that time segment.\n",
    "The result, returned as a float, expresses the total activity during the segment in g·min (ENMO multiplied by duration in minutes)."
   ]
  },
  {
   "cell_type": "code",
   "execution_count": 3,
   "id": "ec4f5268",
   "metadata": {},
   "outputs": [],
   "source": [
    "def integrate_segment(enmo, t_seconds):\n",
    "    t_min = t_seconds / 60.0   # <-- convert to minutes\n",
    "    return float(np.trapz(enmo, t_min))  # result in g·min"
   ]
  },
  {
   "cell_type": "markdown",
   "id": "864038a4",
   "metadata": {},
   "source": [
    "This function splits the ENMO data into fixed time intervals (epochs) of a chosen length in seconds.\n",
    "For each epoch, it selects the corresponding ENMO values, integrates them using the integrate_segment() function, and stores the result in g·min.\n",
    "The output is a DataFrame listing each epoch’s start time, midpoint (in minutes), and total integrated ENMO, which summarizes movement intensity over time."
   ]
  },
  {
   "cell_type": "code",
   "execution_count": 4,
   "id": "79fd9bf6",
   "metadata": {},
   "outputs": [],
   "source": [
    "def enmo_epochs(df, epoch_s):\n",
    "    t0, t1 = df['t'].iloc[0], df['t'].iloc[-1]\n",
    "    edges = np.arange(t0, t1 + epoch_s, epoch_s)\n",
    "    rows = []\n",
    "    for i in range(len(edges)-1):\n",
    "        a, b = edges[i], edges[i+1]\n",
    "        seg = df[(df['t'] >= a) & (df['t'] <= b)]\n",
    "        val = integrate_segment(seg['enmo_g'].values, seg['t'].values) if len(seg) >= 2 else 0.0\n",
    "        rows.append({'epoch_start_s': a, 'epoch_mid_min': (a+b)/2.0/60.0, 'integrated_enmo_gmin': val})\n",
    "    return pd.DataFrame(rows)"
   ]
  },
  {
   "cell_type": "code",
   "execution_count": null,
   "id": "6ec1adc2",
   "metadata": {},
   "outputs": [],
   "source": []
  }
 ],
 "metadata": {
  "kernelspec": {
   "display_name": "base",
   "language": "python",
   "name": "python3"
  },
  "language_info": {
   "codemirror_mode": {
    "name": "ipython",
    "version": 3
   },
   "file_extension": ".py",
   "mimetype": "text/x-python",
   "name": "python",
   "nbconvert_exporter": "python",
   "pygments_lexer": "ipython3",
   "version": "3.13.5"
  }
 },
 "nbformat": 4,
 "nbformat_minor": 5
}
