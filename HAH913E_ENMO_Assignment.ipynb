{
 "cells": [
  {
   "cell_type": "markdown",
   "id": "8b545d8a",
   "metadata": {},
   "source": [
    "This code imports the necessary libraries (pandas, numpy, matplotlib, and Path from the pathlib module) to handle data analysis and plotting. It then searches for the accelerometer data file 0_z.csv in two possible locations and selects the one that exists. The CSV file is read into a pandas DataFrame, ignoring any lines starting with # (used for comments). \n",
    "\n",
    "- The column names are cleaned by stripping spaces and converting them to lowercase. The main data columns (t, x, y, and z) are converted to numeric values, forcing any invalid entries to become missing values (NaN). \n",
    "- Next, any rows containing missing data are removed, and the dataset is sorted by the time column (t) before resetting the index to keep it tidy. \n",
    "\n",
    "- Finally, the code displays the first few rows of the cleaned dataset to confirm that the data has been properly loaded and prepared for further analysis."
   ]
  },
  {
   "cell_type": "code",
   "execution_count": 1,
   "id": "4aab3655",
   "metadata": {},
   "outputs": [
    {
     "data": {
      "text/html": [
       "<div>\n",
       "<style scoped>\n",
       "    .dataframe tbody tr th:only-of-type {\n",
       "        vertical-align: middle;\n",
       "    }\n",
       "\n",
       "    .dataframe tbody tr th {\n",
       "        vertical-align: top;\n",
       "    }\n",
       "\n",
       "    .dataframe thead th {\n",
       "        text-align: right;\n",
       "    }\n",
       "</style>\n",
       "<table border=\"1\" class=\"dataframe\">\n",
       "  <thead>\n",
       "    <tr style=\"text-align: right;\">\n",
       "      <th></th>\n",
       "      <th>t</th>\n",
       "      <th>x</th>\n",
       "      <th>y</th>\n",
       "      <th>z</th>\n",
       "    </tr>\n",
       "  </thead>\n",
       "  <tbody>\n",
       "    <tr>\n",
       "      <th>0</th>\n",
       "      <td>0.00</td>\n",
       "      <td>-0.0938</td>\n",
       "      <td>-0.0156</td>\n",
       "      <td>0.9531</td>\n",
       "    </tr>\n",
       "    <tr>\n",
       "      <th>1</th>\n",
       "      <td>0.02</td>\n",
       "      <td>-0.0938</td>\n",
       "      <td>-0.0156</td>\n",
       "      <td>0.9531</td>\n",
       "    </tr>\n",
       "    <tr>\n",
       "      <th>2</th>\n",
       "      <td>0.04</td>\n",
       "      <td>-0.0938</td>\n",
       "      <td>-0.0156</td>\n",
       "      <td>0.9531</td>\n",
       "    </tr>\n",
       "    <tr>\n",
       "      <th>3</th>\n",
       "      <td>0.06</td>\n",
       "      <td>-0.0938</td>\n",
       "      <td>-0.0156</td>\n",
       "      <td>0.9531</td>\n",
       "    </tr>\n",
       "    <tr>\n",
       "      <th>4</th>\n",
       "      <td>0.08</td>\n",
       "      <td>-0.0938</td>\n",
       "      <td>-0.0156</td>\n",
       "      <td>0.9531</td>\n",
       "    </tr>\n",
       "  </tbody>\n",
       "</table>\n",
       "</div>"
      ],
      "text/plain": [
       "      t       x       y       z\n",
       "0  0.00 -0.0938 -0.0156  0.9531\n",
       "1  0.02 -0.0938 -0.0156  0.9531\n",
       "2  0.04 -0.0938 -0.0156  0.9531\n",
       "3  0.06 -0.0938 -0.0156  0.9531\n",
       "4  0.08 -0.0938 -0.0156  0.9531"
      ]
     },
     "execution_count": 1,
     "metadata": {},
     "output_type": "execute_result"
    }
   ],
   "source": [
    "import pandas as pd, numpy as np, matplotlib.pyplot as plt\n",
    "from pathlib import Path\n",
    "\n",
    "csv_candidates = [Path('0_z.csv'), Path('/mnt/data/0_z.csv')]\n",
    "for p in csv_candidates:\n",
    "    if p.exists():\n",
    "        csv_path = p\n",
    "        break\n",
    "\n",
    "df = pd.read_csv(csv_path, comment='#')\n",
    "df.columns = [c.strip().lower() for c in df.columns]\n",
    "for c in ['t','x','y','z']:\n",
    "    df[c] = pd.to_numeric(df[c], errors='coerce')\n",
    "df = df.dropna(subset=['t','x','y','z']).sort_values('t').reset_index(drop=True)\n",
    "df.head()"
   ]
  },
  {
   "cell_type": "code",
   "execution_count": null,
   "id": "49cdb642",
   "metadata": {},
   "outputs": [],
   "source": []
  }
 ],
 "metadata": {
  "kernelspec": {
   "display_name": "base",
   "language": "python",
   "name": "python3"
  },
  "language_info": {
   "codemirror_mode": {
    "name": "ipython",
    "version": 3
   },
   "file_extension": ".py",
   "mimetype": "text/x-python",
   "name": "python",
   "nbconvert_exporter": "python",
   "pygments_lexer": "ipython3",
   "version": "3.13.5"
  }
 },
 "nbformat": 4,
 "nbformat_minor": 5
}
